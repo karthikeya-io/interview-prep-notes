{
 "cells": [
  {
   "cell_type": "code",
   "execution_count": 1,
   "metadata": {},
   "outputs": [
    {
     "name": "stdout",
     "output_type": "stream",
     "text": [
      "tensor([1, 2, 3, 4])\n",
      "tensor([1, 2, 3, 4])\n"
     ]
    }
   ],
   "source": [
    "import torch\n",
    "import numpy as np\n",
    "\n",
    "# Creating a tensor from a list\n",
    "tensor_from_list = torch.tensor([1, 2, 3, 4])\n",
    "\n",
    "# Creating a tensor from a NumPy array\n",
    "numpy_array = np.array([1, 2, 3, 4])\n",
    "tensor_from_numpy = torch.from_numpy(numpy_array)\n",
    "\n",
    "print(tensor_from_list)\n",
    "print(tensor_from_numpy)\n"
   ]
  },
  {
   "cell_type": "code",
   "execution_count": 2,
   "metadata": {},
   "outputs": [
    {
     "name": "stdout",
     "output_type": "stream",
     "text": [
      "tensor([2, 4, 6, 8])\n",
      "tensor([[1, 2],\n",
      "        [3, 4]])\n"
     ]
    }
   ],
   "source": [
    "# Mathematical operation\n",
    "result = tensor_from_list + tensor_from_numpy\n",
    "\n",
    "# Reshaping a tensor\n",
    "reshaped = tensor_from_list.view(2, 2)\n",
    "\n",
    "print(result)\n",
    "print(reshaped)\n"
   ]
  },
  {
   "cell_type": "code",
   "execution_count": 3,
   "metadata": {},
   "outputs": [],
   "source": [
    "# Enabling gradient computation\n",
    "x = torch.tensor([1.0, 2.0, 3.0, 4.0], requires_grad=True)\n",
    "y = 2 * x + 3\n",
    "\n",
    "# print(y.grad_fn)\n"
   ]
  },
  {
   "cell_type": "code",
   "execution_count": 4,
   "metadata": {},
   "outputs": [
    {
     "name": "stdout",
     "output_type": "stream",
     "text": [
      "tensor([2., 2., 2., 2.])\n"
     ]
    }
   ],
   "source": [
    "# Compute the gradient\n",
    "y.backward(torch.tensor([1.0, 1.0, 1.0, 1.0]))\n",
    "print(x.grad)\n"
   ]
  },
  {
   "cell_type": "code",
   "execution_count": 8,
   "metadata": {},
   "outputs": [
    {
     "name": "stdout",
     "output_type": "stream",
     "text": [
      "tensor([[ -9.6537],\n",
      "        [ -4.1069],\n",
      "        [ -5.1019],\n",
      "        [ 12.4437],\n",
      "        [-16.6894],\n",
      "        [ 12.6265],\n",
      "        [  2.5928],\n",
      "        [  1.6393],\n",
      "        [-14.8592],\n",
      "        [ 18.7561],\n",
      "        [ -1.0067],\n",
      "        [ -6.5456],\n",
      "        [ -0.1215],\n",
      "        [  2.2519],\n",
      "        [ 11.9072],\n",
      "        [ -9.8172],\n",
      "        [ -9.9966],\n",
      "        [  2.0139],\n",
      "        [ 10.8131],\n",
      "        [ -9.6774],\n",
      "        [ -3.2945],\n",
      "        [ -3.2199],\n",
      "        [-14.6552],\n",
      "        [ -6.3690],\n",
      "        [  2.4106],\n",
      "        [  6.5310],\n",
      "        [  9.3975],\n",
      "        [ -5.7364],\n",
      "        [ -3.5922],\n",
      "        [ -5.8718],\n",
      "        [-16.9570],\n",
      "        [ -3.3146],\n",
      "        [  1.5833],\n",
      "        [  5.4712],\n",
      "        [ -5.6247],\n",
      "        [  2.8722],\n",
      "        [  1.9623],\n",
      "        [  4.4600],\n",
      "        [ 14.2285],\n",
      "        [  1.8862],\n",
      "        [  2.8569],\n",
      "        [ 10.3572],\n",
      "        [  1.9451],\n",
      "        [  7.6473],\n",
      "        [ -0.5308],\n",
      "        [-11.6181],\n",
      "        [  7.3707],\n",
      "        [  4.5728],\n",
      "        [  5.6276],\n",
      "        [ -3.7460],\n",
      "        [  9.3070],\n",
      "        [  7.6243],\n",
      "        [  2.5363],\n",
      "        [ -9.2698],\n",
      "        [  9.6725],\n",
      "        [ -4.1764],\n",
      "        [ 13.0625],\n",
      "        [  1.3039],\n",
      "        [ -4.0698],\n",
      "        [-17.8155],\n",
      "        [  5.4624],\n",
      "        [ -5.5302],\n",
      "        [  3.2684],\n",
      "        [  4.3898],\n",
      "        [ 10.1401],\n",
      "        [ -5.3388],\n",
      "        [ -0.1857],\n",
      "        [ -2.6971],\n",
      "        [ -8.1101],\n",
      "        [ 10.6910],\n",
      "        [ -0.3570],\n",
      "        [ 12.4016],\n",
      "        [  6.5103],\n",
      "        [ -4.0764],\n",
      "        [  3.3219],\n",
      "        [ -4.6457],\n",
      "        [ -3.2395],\n",
      "        [-20.2964],\n",
      "        [ 11.9862],\n",
      "        [ 18.8028],\n",
      "        [ 11.1430],\n",
      "        [ -9.5586],\n",
      "        [  0.3112],\n",
      "        [-11.3625],\n",
      "        [ 11.8560],\n",
      "        [-13.0991],\n",
      "        [-17.7643],\n",
      "        [  3.2600],\n",
      "        [ 11.4487],\n",
      "        [  6.9447],\n",
      "        [  9.6928],\n",
      "        [ -9.4243],\n",
      "        [ -3.1745],\n",
      "        [  1.0542],\n",
      "        [ 13.0832],\n",
      "        [  9.4602],\n",
      "        [ -4.5667],\n",
      "        [  5.1407],\n",
      "        [ -3.8649],\n",
      "        [ -5.4968]])\n",
      "torch.Size([100, 1])\n",
      "Trained weights: 1.0466020107269287, bias: 0.18690070509910583\n"
     ]
    }
   ],
   "source": [
    "# Generate dummy data\n",
    "x = torch.randn(100, 1) * 10 # 100 rows, 1 column\n",
    "print(x.shape)\n",
    "y = x + 3*torch.randn(100, 1)\n",
    "print(y.shape)\n",
    "\n",
    "# Initialize weights and bias with requires_grad=True\n",
    "weights = torch.randn(1, requires_grad=True)\n",
    "bias = torch.randn(1, requires_grad=True)\n",
    "\n",
    "# Simple training loop\n",
    "learning_rate = 0.001\n",
    "for i in range(1000):\n",
    "    prediction = x * weights + bias\n",
    "    loss = ((prediction - y)**2).mean()  # Mean Squared Error\n",
    "\n",
    "    # Compute gradients\n",
    "    loss.backward()\n",
    "\n",
    "    # Update weights and biases\n",
    "    with torch.no_grad():\n",
    "        weights -= learning_rate * weights.grad\n",
    "        bias -= learning_rate * bias.grad\n",
    "\n",
    "    # Zero the gradients after updating\n",
    "    weights.grad.zero_()\n",
    "    bias.grad.zero_()\n",
    "\n",
    "print(f\"Trained weights: {weights.item()}, bias: {bias.item()}\")\n"
   ]
  },
  {
   "cell_type": "code",
   "execution_count": null,
   "metadata": {},
   "outputs": [],
   "source": []
  }
 ],
 "metadata": {
  "kernelspec": {
   "display_name": "Python 3",
   "language": "python",
   "name": "python3"
  },
  "language_info": {
   "codemirror_mode": {
    "name": "ipython",
    "version": 3
   },
   "file_extension": ".py",
   "mimetype": "text/x-python",
   "name": "python",
   "nbconvert_exporter": "python",
   "pygments_lexer": "ipython3",
   "version": "3.10.12"
  }
 },
 "nbformat": 4,
 "nbformat_minor": 2
}
